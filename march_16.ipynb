{
 "cells": [
  {
   "cell_type": "markdown",
   "metadata": {},
   "source": [
    "#### Program to calculate cummulative sum of the elements of a given list"
   ]
  },
  {
   "cell_type": "code",
   "execution_count": 4,
   "metadata": {},
   "outputs": [
    {
     "name": "stdout",
     "output_type": "stream",
     "text": [
      "[1, 2, 3, 4, 5]\n",
      "Original list: [1, 2, 3, 4, 5]\n",
      "Cumulative sum list: [1, 3, 6, 10, 15]\n"
     ]
    }
   ],
   "source": [
    "def cumulative_sum(numbers):\n",
    "    cumulative = []\n",
    "    total = 0\n",
    "    for num in numbers:\n",
    "        total += num\n",
    "        cumulative.append(total)\n",
    "    return cumulative\n",
    "\n",
    "inp = input(\"Enter the numbers in sequence: \")\n",
    "numbers = [int (num) for num in inp.split()]\n",
    "print (numbers)\n",
    "\n",
    "cumulative_result = cumulative_sum(numbers)\n",
    "print(\"Original list:\", numbers)\n",
    "print(\"Cumulative sum list:\", cumulative_result)\n"
   ]
  },
  {
   "cell_type": "markdown",
   "metadata": {},
   "source": [
    "#### Program to split a list into two halves"
   ]
  },
  {
   "cell_type": "code",
   "execution_count": 5,
   "metadata": {},
   "outputs": [
    {
     "name": "stdout",
     "output_type": "stream",
     "text": [
      "['1', '2', '3'] ['4', '5', '6']\n"
     ]
    }
   ],
   "source": [
    "def splitList(lst):\n",
    "\n",
    "    midPoint = len(lst)//2\n",
    "    leftHalf = lst[:midPoint]\n",
    "    rightHalf = lst[midPoint:]\n",
    "    return leftHalf, rightHalf\n",
    "\n",
    "inp = input(\"Enter a list of elements separated by spaces: \")\n",
    "lstInp = [ele for ele in inp.split() ]\n",
    "firsthalf, secondhalf=splitList(lstInp)\n",
    "print(firsthalf, secondhalf)\n"
   ]
  },
  {
   "cell_type": "markdown",
   "metadata": {},
   "source": [
    "#### Program to create a list from a string"
   ]
  },
  {
   "cell_type": "code",
   "execution_count": 9,
   "metadata": {},
   "outputs": [
    {
     "name": "stdout",
     "output_type": "stream",
     "text": [
      "['1', '2', '3', 'a', 'b', 'c']\n"
     ]
    }
   ],
   "source": [
    "def extractElements(str):\n",
    "    \n",
    "    elements=[]\n",
    "    for character in str:\n",
    "        elements.append(character)\n",
    "    return elements\n",
    "\n",
    "inp = input(\"Enter a string: \")\n",
    "print(extractElements(inp))\n"
   ]
  },
  {
   "cell_type": "markdown",
   "metadata": {},
   "source": [
    "#### Program that calculates the sum of all the elements in the given list\n"
   ]
  },
  {
   "cell_type": "code",
   "execution_count": 10,
   "metadata": {},
   "outputs": [
    {
     "name": "stdout",
     "output_type": "stream",
     "text": [
      "50\n"
     ]
    }
   ],
   "source": [
    "t=[[2,1,9],[10],[5,3,20]]\n",
    "\n",
    "def calculate(lst):\n",
    "\n",
    "    sum = 0\n",
    "    for sublist in lst:\n",
    "        for element in sublist:\n",
    "            sum += element\n",
    "    return sum\n",
    "\n",
    "print(calculate(t))\n"
   ]
  },
  {
   "cell_type": "markdown",
   "metadata": {},
   "source": [
    "#### Program to reverse a list"
   ]
  },
  {
   "cell_type": "code",
   "execution_count": 13,
   "metadata": {},
   "outputs": [
    {
     "name": "stdout",
     "output_type": "stream",
     "text": [
      "['5', '4', '3', '2', '1']\n"
     ]
    }
   ],
   "source": [
    "def revList(lst):\n",
    "\n",
    "    revedList = []\n",
    "    for index in range (len(lst)-1, -1,-1):\n",
    "        revedList.append(lst[index])\n",
    "    return revedList\n",
    "\n",
    "inp = input(\"Enter a list of elements separated by spaces: \")\n",
    "inp_list = [ele for ele in inp.split()]\n",
    "print (revList(inp_list))\n",
    "\n"
   ]
  },
  {
   "cell_type": "markdown",
   "metadata": {},
   "source": [
    "#### Program to double every element in a list"
   ]
  },
  {
   "cell_type": "code",
   "execution_count": 16,
   "metadata": {},
   "outputs": [
    {
     "name": "stdout",
     "output_type": "stream",
     "text": [
      "[2, 4, 6, 8, 10]\n"
     ]
    }
   ],
   "source": [
    "def dble(lst):\n",
    "\n",
    "    return [ele * 2 for ele in lst]\n",
    "\n",
    "inp = input(\"Enter a list of elements separated by spaces: \")\n",
    "inp_list = [int(ele) for ele in inp.split()]\n",
    "print(dble(inp_list))\n",
    "        \n"
   ]
  },
  {
   "cell_type": "markdown",
   "metadata": {},
   "source": [
    "#### Program to check whether each element inside a list is odd or even"
   ]
  },
  {
   "cell_type": "code",
   "execution_count": 20,
   "metadata": {},
   "outputs": [
    {
     "name": "stdout",
     "output_type": "stream",
     "text": [
      "['Odd', 'Even', 'Odd', 'Even', 'Odd']\n"
     ]
    }
   ],
   "source": [
    "inp = input(\"Enter a list of numbers separated by spaces: \")\n",
    "inp_list = [int(ele) for ele in inp.split()]\n",
    "print([\"Even\" if num % 2 == 0 else \"Odd\" for num in inp_list])"
   ]
  },
  {
   "cell_type": "markdown",
   "metadata": {},
   "source": [
    "#### Program to print \"Hello\" the number of times equal to the value of each list element"
   ]
  },
  {
   "cell_type": "code",
   "execution_count": 23,
   "metadata": {},
   "outputs": [
    {
     "name": "stdout",
     "output_type": "stream",
     "text": [
      "['Hello ', 'Hello Hello ', 'Hello Hello Hello ', 'Hello Hello Hello Hello ', 'Hello Hello Hello Hello Hello ']\n"
     ]
    }
   ],
   "source": [
    "inp = input(\"Enter a list of numbers separated by spaces: \")\n",
    "inp_list = [int(ele) for ele in inp.split()]\n",
    "print([\"Hello \" * num for num in inp_list])"
   ]
  }
 ],
 "metadata": {
  "kernelspec": {
   "display_name": "Python 3",
   "language": "python",
   "name": "python3"
  },
  "language_info": {
   "codemirror_mode": {
    "name": "ipython",
    "version": 3
   },
   "file_extension": ".py",
   "mimetype": "text/x-python",
   "name": "python",
   "nbconvert_exporter": "python",
   "pygments_lexer": "ipython3",
   "version": "3.12.2"
  }
 },
 "nbformat": 4,
 "nbformat_minor": 2
}
